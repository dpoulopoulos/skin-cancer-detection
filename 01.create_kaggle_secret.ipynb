{
 "cells": [
  {
   "cell_type": "markdown",
   "id": "cb6a92d0-be69-4642-b8cb-d14971b537dd",
   "metadata": {},
   "source": [
    "# Create Kaggle Secret\n",
    "\n",
    "In this Notebook you will create a Kubernetes secret from a Kaggle API key. The main purpose of this Notebook is to facilitate the seamless integration of Kaggle CLI operations within a Kubeflow pipeline. Here's a breakdown of the steps involved:\n",
    "\n",
    "1. **Read the Kaggle API Key**: The Notebook begins by reading the `kaggle.json` file located in the `.kaggle` directory. This file contains the necessary API credentials for accessing\n",
    "   the Kaggle platform.\n",
    "   \n",
    "   > **❗Note**: You should already have an API token. If you don't follow the instructions in the [docs](https://www.kaggle.com/docs/api#authentication).\n",
    "\n",
    "1. **Extract API Credentials**: Once the `kaggle.json` file is read, its contents are extracted. These contents include the username and API key required for authenticating with the\n",
    "   Kaggle API.\n",
    "\n",
    "1. **Create a Kubernetes Secret**: With the extracted credentials, the Notebook proceeds to create a Kubernetes secret. This secret will securely store the Kaggle API key within the\n",
    "   Kubernetes cluster.\n",
    "\n",
    "1. **Use the Secret in Kubeflow Pipelines**: The Kubernetes secret can then be referenced in Kubeflow pipelines steps to perform various actions using the Kaggle CLI, such as downloading\n",
    "   datasets, submitting competitions, and more.\n",
    "\n",
    "By automating these steps, this Notebook streamlines the workflow for users who need to interact with Kaggle as part of their data science and machine learning projects within a Kubeflow environment. This ensures that the API credentials are securely managed and easily accessible for subsequent tasks."
   ]
  },
  {
   "cell_type": "code",
   "execution_count": null,
   "id": "34f2fdcf-ccd5-4c6f-9185-7acd732d07f0",
   "metadata": {},
   "outputs": [],
   "source": [
    "import json\n",
    "import base64\n",
    "\n",
    "from pathlib import Path\n",
    "from kubernetes import client\n",
    "from kubernetes.config.incluster_config import InClusterConfigLoader\n",
    "from kubernetes.client import V1Secret, V1ObjectMeta"
   ]
  },
  {
   "cell_type": "markdown",
   "id": "473ef909-fe27-4b26-8464-098bc155261b",
   "metadata": {},
   "source": [
    "Start by instantiating the Kubernetes Python client. You will need this to submit the Secret you will create."
   ]
  },
  {
   "cell_type": "code",
   "execution_count": null,
   "id": "d56c8435-983a-422d-bf3d-1252b5293673",
   "metadata": {},
   "outputs": [],
   "source": [
    "root = Path(\"/\")\n",
    "sa = root/Path(\"var/run/secrets/kubernetes.io/serviceaccount\")\n",
    "ns = open(sa/\"namespace\", \"r\").read()\n",
    "\n",
    "# load and set kubernetes config\n",
    "loader = InClusterConfigLoader(\n",
    "    token_filename=sa/\"token\",\n",
    "    cert_filename=sa/\"ca.crt\",\n",
    ")\n",
    "loader.load_and_set()\n",
    "\n",
    "v1 = client.CoreV1Api()"
   ]
  },
  {
   "cell_type": "markdown",
   "id": "731a3384-2097-4e91-831b-85ddade5f934",
   "metadata": {},
   "source": [
    "Next, get the Kaggle credentials. We assume that there is a `kaggle.json` file under `~/.kaggle`. If not, see the [docs](https://www.kaggle.com/docs/api#authentication) on how to create one. To complete this step, you should have an account with Kaggle."
   ]
  },
  {
   "cell_type": "code",
   "execution_count": null,
   "id": "e2faf415-7657-414b-a88c-9e15fea9466b",
   "metadata": {},
   "outputs": [],
   "source": [
    "with open(Path.home()/\".kaggle\"/\"kaggle.json\", \"r\") as f:\n",
    "    kaggle_creds = json.load(f)"
   ]
  },
  {
   "cell_type": "markdown",
   "id": "dd56b0f6-535d-439b-baa7-519d6c049972",
   "metadata": {},
   "source": [
    "Finally, create the Kubernetes Secret and submit it using the client. We will create a Secret of type `Opaque` for this. For a complete list of Kubernetes secret types, see thee [docs](https://kubernetes.io/docs/concepts/configuration/secret/#secret-types)."
   ]
  },
  {
   "cell_type": "code",
   "execution_count": null,
   "id": "cf74e732-cd78-4161-bbc2-2ab24303ffdf",
   "metadata": {},
   "outputs": [],
   "source": [
    "kaggle_secret = V1Secret(\n",
    "    api_version=\"v1\",\n",
    "    kind=\"Secret\",\n",
    "    metadata=V1ObjectMeta(name=\"kaggle-secret\"),\n",
    "    string_data=kaggle_creds\n",
    ")"
   ]
  },
  {
   "cell_type": "code",
   "execution_count": null,
   "id": "237d0951-b1a1-4d8e-9170-4097000cf76c",
   "metadata": {},
   "outputs": [],
   "source": [
    "v1.create_namespaced_secret(namespace=ns, body=kaggle_secret)"
   ]
  }
 ],
 "metadata": {
  "kernelspec": {
   "display_name": "Python 3 (ipykernel)",
   "language": "python",
   "name": "python3"
  },
  "language_info": {
   "codemirror_mode": {
    "name": "ipython",
    "version": 3
   },
   "file_extension": ".py",
   "mimetype": "text/x-python",
   "name": "python",
   "nbconvert_exporter": "python",
   "pygments_lexer": "ipython3",
   "version": "3.8.10"
  }
 },
 "nbformat": 4,
 "nbformat_minor": 5
}
