{
 "cells": [
  {
   "cell_type": "code",
   "execution_count": null,
   "id": "c871d6ff-7f64-4591-9496-995466bdb1e0",
   "metadata": {},
   "outputs": [],
   "source": [
    "import torch\n",
    "import lightning as L\n",
    "\n",
    "from model import LitEfficientNet\n",
    "from datamodule import ISICDataModule"
   ]
  },
  {
   "cell_type": "code",
   "execution_count": null,
   "id": "fbd5760d-25d0-4323-90f6-a555c0472005",
   "metadata": {},
   "outputs": [],
   "source": [
    "torch.set_float32_matmul_precision(\"high\")"
   ]
  },
  {
   "cell_type": "code",
   "execution_count": null,
   "id": "f367dbcc-ecf2-4d6a-9330-745ad87f8c1c",
   "metadata": {},
   "outputs": [],
   "source": [
    "model = LitEfficientNet()\n",
    "datamodule = ISICDataModule()"
   ]
  },
  {
   "cell_type": "code",
   "execution_count": null,
   "id": "8e6c2166-b702-4927-a19d-41e6a037574d",
   "metadata": {},
   "outputs": [],
   "source": [
    "trainer = L.Trainer(max_epochs=4, precision=\"bf16-mixed\")"
   ]
  },
  {
   "cell_type": "code",
   "execution_count": null,
   "id": "093cd028-f73e-4447-9d27-158a850a8249",
   "metadata": {},
   "outputs": [],
   "source": [
    "trainer.fit(model, datamodule=datamodule)"
   ]
  },
  {
   "cell_type": "code",
   "execution_count": null,
   "id": "6ca0a906-f4c8-48b4-a66a-b4844da6b37d",
   "metadata": {},
   "outputs": [],
   "source": [
    "torch.save(model.model.state_dict(), \"isic-baseline.pth\")"
   ]
  }
 ],
 "metadata": {
  "kernelspec": {
   "display_name": "Python 3 (ipykernel)",
   "language": "python",
   "name": "python3"
  },
  "language_info": {
   "codemirror_mode": {
    "name": "ipython",
    "version": 3
   },
   "file_extension": ".py",
   "mimetype": "text/x-python",
   "name": "python",
   "nbconvert_exporter": "python",
   "pygments_lexer": "ipython3",
   "version": "3.8.10"
  }
 },
 "nbformat": 4,
 "nbformat_minor": 5
}
