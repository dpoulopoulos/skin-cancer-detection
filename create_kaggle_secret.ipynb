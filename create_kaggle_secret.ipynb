{
 "cells": [
  {
   "cell_type": "code",
   "execution_count": null,
   "id": "34f2fdcf-ccd5-4c6f-9185-7acd732d07f0",
   "metadata": {},
   "outputs": [],
   "source": [
    "import json\n",
    "import base64\n",
    "\n",
    "from pathlib import Path\n",
    "from kubernetes import client\n",
    "from kubernetes.config.incluster_config import InClusterConfigLoader\n",
    "from kubernetes.client import V1Secret, V1ObjectMeta"
   ]
  },
  {
   "cell_type": "code",
   "execution_count": null,
   "id": "d56c8435-983a-422d-bf3d-1252b5293673",
   "metadata": {},
   "outputs": [],
   "source": [
    "root = Path(\"/\")\n",
    "sa = root/Path(\"var/run/secrets/kubernetes.io/serviceaccount\")\n",
    "ns = open(sa/\"namespace\", \"r\").read()\n",
    "\n",
    "# load and set kubernetes config\n",
    "loader = InClusterConfigLoader(\n",
    "    token_filename=sa/\"token\",\n",
    "    cert_filename=sa/\"ca.crt\",\n",
    ")\n",
    "loader.load_and_set()\n",
    "\n",
    "v1 = client.CoreV1Api()"
   ]
  },
  {
   "cell_type": "code",
   "execution_count": null,
   "id": "e2faf415-7657-414b-a88c-9e15fea9466b",
   "metadata": {},
   "outputs": [],
   "source": [
    "# get the kaggle credentials\n",
    "# we assume that there is a `kaggle.json` file under `~/.kaggle`\n",
    "# see: https://www.kaggle.com/docs/api#authentication\n",
    "with open(Path.home()/\".kaggle\"/\"kaggle.json\", \"r\") as f:\n",
    "    kaggle_creds = json.load(f)"
   ]
  },
  {
   "cell_type": "code",
   "execution_count": null,
   "id": "cf74e732-cd78-4161-bbc2-2ab24303ffdf",
   "metadata": {},
   "outputs": [],
   "source": [
    "kaggle_secret = V1Secret(\n",
    "    api_version=\"v1\",\n",
    "    kind=\"Secret\",\n",
    "    metadata=V1ObjectMeta(name=\"kaggle-secret\"),\n",
    "    string_data=kaggle_creds\n",
    ")"
   ]
  },
  {
   "cell_type": "code",
   "execution_count": null,
   "id": "237d0951-b1a1-4d8e-9170-4097000cf76c",
   "metadata": {},
   "outputs": [],
   "source": [
    "v1.create_namespaced_secret(namespace=ns, body=kaggle_secret)"
   ]
  }
 ],
 "metadata": {
  "kernelspec": {
   "display_name": "Python 3 (ipykernel)",
   "language": "python",
   "name": "python3"
  },
  "language_info": {
   "codemirror_mode": {
    "name": "ipython",
    "version": 3
   },
   "file_extension": ".py",
   "mimetype": "text/x-python",
   "name": "python",
   "nbconvert_exporter": "python",
   "pygments_lexer": "ipython3",
   "version": "3.8.10"
  }
 },
 "nbformat": 4,
 "nbformat_minor": 5
}
