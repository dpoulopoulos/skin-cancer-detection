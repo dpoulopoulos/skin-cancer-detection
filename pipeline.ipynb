{
 "cells": [
  {
   "cell_type": "code",
   "execution_count": 1,
   "id": "c6b06325-176e-430e-9b44-7cb945cf72c6",
   "metadata": {},
   "outputs": [
    {
     "name": "stderr",
     "output_type": "stream",
     "text": [
      "/tmp/ipykernel_675/1949069576.py:2: FutureWarning: KFP will drop support for Python 3.8 on Oct 1, 2024. To use new versions of the KFP SDK after that date, you will need to upgrade to Python >= 3.9. See https://devguide.python.org/versions/ for more details.\n",
      "  from kfp import dsl, compiler, kubernetes, client\n"
     ]
    }
   ],
   "source": [
    "from pathlib import Path\n",
    "from kfp import dsl, compiler, kubernetes, client"
   ]
  },
  {
   "cell_type": "code",
   "execution_count": 2,
   "id": "bd377413-c868-4726-ad83-d569f1e53902",
   "metadata": {},
   "outputs": [
    {
     "name": "stderr",
     "output_type": "stream",
     "text": [
      "/opt/conda/lib/python3.8/site-packages/kfp/client/client.py:159: FutureWarning: This client only works with Kubeflow Pipeline v2.0.0-beta.2 and later versions.\n",
      "  warnings.warn(\n"
     ]
    }
   ],
   "source": [
    "kaggle_secret = \"kaggle-secret\"\n",
    "root = Path(\"/\")\n",
    "sa = root/Path(\"var/run/secrets/kubernetes.io/serviceaccount\")\n",
    "ns = open(sa/\"namespace\", \"r\").read()\n",
    "client = client.Client()"
   ]
  },
  {
   "cell_type": "code",
   "execution_count": 3,
   "id": "7ccddf83-b628-4c50-958c-2827b1d29680",
   "metadata": {},
   "outputs": [
    {
     "name": "stderr",
     "output_type": "stream",
     "text": [
      "/opt/conda/lib/python3.8/site-packages/kfp/dsl/component_decorator.py:119: FutureWarning: The default base_image used by the @dsl.component decorator will switch from 'python:3.8' to 'python:3.9' on Oct 1, 2024. To ensure your existing components work with versions of the KFP SDK released after that date, you should provide an explicit base_image argument and ensure your component works as intended on Python 3.9.\n",
      "  return component_factory.create_component_from_func(\n"
     ]
    }
   ],
   "source": [
    "@dsl.component(packages_to_install=['kaggle==1.6.14'])\n",
    "def download_data() -> None:\n",
    "    import os\n",
    "    import json\n",
    "    import zipfile\n",
    "    import subprocess\n",
    "    \n",
    "    def init_kaggle():\n",
    "        # create the Kaggle config directory\n",
    "        kaggle_config_dir = os.path.join(\n",
    "            os.path.expandvars('$HOME'), '.kaggle')\n",
    "        os.makedirs(kaggle_config_dir, exist_ok = True)\n",
    "\n",
    "        # write the Kaggle config\n",
    "        api_dict = {\n",
    "            \"username\": os.environ['KAGGLE_USERNAME'],\n",
    "            \"key\":os.environ['KAGGLE_KEY']}\n",
    "\n",
    "        with open(os.path.join(kaggle_config_dir, \"kaggle.json\"), \"w\", encoding='utf-8') as f:\n",
    "            json.dump(api_dict, f)\n",
    "\n",
    "        cmd = f\"chmod 600 {kaggle_config_dir}/kaggle.json\"\n",
    "        output = subprocess.check_output(cmd.split(\" \"))\n",
    "        \n",
    "        return output\n",
    "        \n",
    "    result = init_kaggle()\n",
    "    print(result)\n",
    "    \n",
    "    import kaggle\n",
    "    \n",
    "    isic_data_path = \"/data\"\n",
    "    kaggle.api.competition_download_files(\"isic-2024-challenge\", path=isic_data_path)\n",
    "    \n",
    "    with zipfile.ZipFile(os.path.join(isic_data_path, \"isic-2024-challenge.zip\"), 'r') as zip_ref:\n",
    "        zip_ref.extractall(isic_data_path)\n",
    "        \n",
    "    os.listdir(isic_data_path)"
   ]
  },
  {
   "cell_type": "code",
   "execution_count": 4,
   "id": "b7f9c4bc-b575-4dd9-b6a5-63c5b87776e6",
   "metadata": {},
   "outputs": [],
   "source": [
    "@dsl.component(packages_to_install=[\"kubeflow-training==1.8.0\"])\n",
    "def launch_training() -> None:\n",
    "    from kubeflow.training import TrainingClient, constants\n",
    "    from kubernetes.client import (V1ObjectMeta,\n",
    "                                   V1PodTemplateSpec,\n",
    "                                   V1PodSpec,\n",
    "                                   V1Volume,\n",
    "                                   V1PersistentVolumeClaimVolumeSource,\n",
    "                                   V1EmptyDirVolumeSource,\n",
    "                                   V1Container,\n",
    "                                   V1VolumeMount,\n",
    "                                   V1ResourceRequirements)\n",
    "    from kubeflow.training.models import (KubeflowOrgV1PyTorchJob,\n",
    "                                          KubeflowOrgV1PyTorchJobSpec,\n",
    "                                          KubeflowOrgV1ReplicaSpec,\n",
    "                                          KubeflowOrgV1RunPolicy)\n",
    "    \n",
    "    training_client = TrainingClient(job_kind=constants.PYTORCHJOB_KIND)\n",
    "    \n",
    "    # define job's metadata\n",
    "    pytorch_job_metadata = V1ObjectMeta(name=\"pytorch-dist-isic-efficientnet\")\n",
    "    pytorch_replica_metadata = V1ObjectMeta(\n",
    "        annotations={\"sidecar.istio.io/inject\": \"false\"})\n",
    "    \n",
    "    # define volumes\n",
    "    data_volume = V1Volume(\n",
    "        name=\"isic-data\",\n",
    "        persistent_volume_claim=V1PersistentVolumeClaimVolumeSource(claim_name=\"isic-data\"))\n",
    "    logs_volume = V1Volume(\n",
    "        name=\"isic-logs\",\n",
    "        persistent_volume_claim=V1PersistentVolumeClaimVolumeSource(claim_name=\"isic-logs\"))\n",
    "    shm_volume = V1Volume(\n",
    "        name=\"dshm\",\n",
    "        empty_dir=V1EmptyDirVolumeSource(medium=\"Memory\", size_limit=\"2Gi\"))\n",
    "    \n",
    "    # define volume mounts\n",
    "    data_volume_mount = V1VolumeMount(\n",
    "        name=\"isic-data\",\n",
    "        mount_path=\"/data\")\n",
    "    logs_volume_mount = V1VolumeMount(\n",
    "        name=\"isic-logs\",\n",
    "        mount_path=\"/logs\")\n",
    "    dshm_volume_mount = V1VolumeMount(\n",
    "        name=\"dshm\",\n",
    "        mount_path=\"/dev/shm\")\n",
    "    \n",
    "    # define job's container\n",
    "    pytorch_replica_container = V1Container(\n",
    "        name=\"pytorch\",\n",
    "        image=\"dpoulopoulos/pytorch-dist-isic:61a89cd\",\n",
    "        resources=V1ResourceRequirements(\n",
    "            limits={\"nvidia.com/gpu\": \"1\"}),\n",
    "        volume_mounts=[data_volume_mount, logs_volume_mount, dshm_volume_mount])\n",
    "    \n",
    "    # define job's replica spec\n",
    "    pytorch_replica_template_spec = V1PodSpec(\n",
    "        volumes=[data_volume, logs_volume, shm_volume],\n",
    "        containers=[pytorch_replica_container])\n",
    "    pytorch_replica_template = V1PodTemplateSpec(\n",
    "        metadata=pytorch_replica_metadata,\n",
    "        spec=pytorch_replica_template_spec)\n",
    "    pytorch_replica_spec = KubeflowOrgV1ReplicaSpec(\n",
    "        replicas=1,\n",
    "        restart_policy=\"OnFailure\",\n",
    "        template=pytorch_replica_template)\n",
    "    pytorch_replica_specs = {\n",
    "        \"Master\": pytorch_replica_spec,\n",
    "        \"Worker\": pytorch_replica_spec\n",
    "    }\n",
    "    \n",
    "    # define PyTorchJob spec\n",
    "    pytorch_job_spec = KubeflowOrgV1PyTorchJobSpec(\n",
    "        pytorch_replica_specs=pytorch_replica_specs,\n",
    "        run_policy=KubeflowOrgV1RunPolicy())\n",
    "    \n",
    "    pytorch_job = KubeflowOrgV1PyTorchJob(\n",
    "        api_version=\"kubeflow.org/v1\",\n",
    "        kind=\"PyTorchJob\",\n",
    "        metadata=pytorch_job_metadata,\n",
    "        spec=pytorch_job_spec)\n",
    "    \n",
    "    training_client.create_job(pytorch_job, namespace=\"kubeflow-user-example-com\")"
   ]
  },
  {
   "cell_type": "code",
   "execution_count": 5,
   "id": "1bb45234-ad9d-451c-b053-156108074210",
   "metadata": {},
   "outputs": [],
   "source": [
    "@dsl.pipeline\n",
    "def isic_pipeline() -> None:\n",
    "    # create a PVC to store the dataset\n",
    "    isic_data_pvc = kubernetes.CreatePVC(\n",
    "        pvc_name='isic-data',\n",
    "        access_modes=['ReadWriteMany'],\n",
    "        size='8.0Gi',\n",
    "        storage_class_name='longhorn'\n",
    "    )\n",
    "    \n",
    "    # create a PVC to log the training progress\n",
    "    isic_logs_pvc = kubernetes.CreatePVC(\n",
    "        pvc_name='isic-logs',\n",
    "        access_modes=['ReadWriteMany'],\n",
    "        size='2.0Gi',\n",
    "        storage_class_name='longhorn'\n",
    "    )\n",
    "\n",
    "    download_data_step = download_data().after(isic_data_pvc)\n",
    "    download_data_step.set_caching_options(enable_caching=False)\n",
    "    launch_training_step = launch_training().after(download_data_step)\n",
    "    launch_training_step.set_caching_options(enable_caching=False)\n",
    "\n",
    "    kubernetes.mount_pvc(\n",
    "        download_data_step,\n",
    "        pvc_name=isic_data_pvc.outputs['name'],\n",
    "        mount_path='/data')\n",
    "    kubernetes.use_secret_as_env(\n",
    "        download_data_step,\n",
    "        secret_name=kaggle_secret,\n",
    "        secret_key_to_env={'username': 'KAGGLE_USERNAME'})\n",
    "    kubernetes.use_secret_as_env(\n",
    "        download_data_step,\n",
    "        secret_name=kaggle_secret,\n",
    "        secret_key_to_env={'key': 'KAGGLE_KEY'})"
   ]
  },
  {
   "cell_type": "code",
   "execution_count": 6,
   "id": "78dda429-0b68-4f8a-83f3-c8e13dc8c302",
   "metadata": {},
   "outputs": [],
   "source": [
    "compiler.Compiler().compile(isic_pipeline, package_path='pipeline.yaml')"
   ]
  },
  {
   "cell_type": "code",
   "execution_count": 7,
   "id": "83f5bf5d-ae59-4ca0-b047-07f0be725a19",
   "metadata": {},
   "outputs": [
    {
     "data": {
      "text/html": [
       "<a href=\"/pipeline/#/experiments/details/ed21a435-3f2a-40e8-8ac5-cc3e2171ec40\" target=\"_blank\" >Experiment details</a>."
      ],
      "text/plain": [
       "<IPython.core.display.HTML object>"
      ]
     },
     "metadata": {},
     "output_type": "display_data"
    }
   ],
   "source": [
    "experiment = client.create_experiment(\n",
    "    name=\"isic-experiment\",\n",
    "    description=\"Skin Cancer Detection with 3D-TBP\",\n",
    "    namespace=ns)"
   ]
  },
  {
   "cell_type": "code",
   "execution_count": 8,
   "id": "f4d09b94-fb06-438c-acd3-50f1a04004f5",
   "metadata": {},
   "outputs": [
    {
     "data": {
      "text/html": [
       "<a href=\"/pipeline/#/experiments/details/ed21a435-3f2a-40e8-8ac5-cc3e2171ec40\" target=\"_blank\" >Experiment details</a>."
      ],
      "text/plain": [
       "<IPython.core.display.HTML object>"
      ]
     },
     "metadata": {},
     "output_type": "display_data"
    },
    {
     "data": {
      "text/html": [
       "<a href=\"/pipeline/#/runs/details/183ff10c-22af-4c32-b333-9b7790b84af5\" target=\"_blank\" >Run details</a>."
      ],
      "text/plain": [
       "<IPython.core.display.HTML object>"
      ]
     },
     "metadata": {},
     "output_type": "display_data"
    }
   ],
   "source": [
    "pipeline = client.create_run_from_pipeline_package(\n",
    "    pipeline_file=\"pipeline.yaml\",\n",
    "    experiment_name=experiment.display_name,\n",
    "    namespace=ns,\n",
    "    run_name=\"isic-run\"\n",
    ")   "
   ]
  }
 ],
 "metadata": {
  "kernelspec": {
   "display_name": "Python 3 (ipykernel)",
   "language": "python",
   "name": "python3"
  },
  "language_info": {
   "codemirror_mode": {
    "name": "ipython",
    "version": 3
   },
   "file_extension": ".py",
   "mimetype": "text/x-python",
   "name": "python",
   "nbconvert_exporter": "python",
   "pygments_lexer": "ipython3",
   "version": "3.8.10"
  }
 },
 "nbformat": 4,
 "nbformat_minor": 5
}
