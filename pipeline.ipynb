{
 "cells": [
  {
   "cell_type": "code",
   "execution_count": 1,
   "id": "c6b06325-176e-430e-9b44-7cb945cf72c6",
   "metadata": {},
   "outputs": [
    {
     "name": "stderr",
     "output_type": "stream",
     "text": [
      "/tmp/ipykernel_1081/1949069576.py:2: FutureWarning: KFP will drop support for Python 3.8 on Oct 1, 2024. To use new versions of the KFP SDK after that date, you will need to upgrade to Python >= 3.9. See https://devguide.python.org/versions/ for more details.\n",
      "  from kfp import dsl, compiler, kubernetes, client\n"
     ]
    }
   ],
   "source": [
    "from pathlib import Path\n",
    "from kfp import dsl, compiler, kubernetes, client"
   ]
  },
  {
   "cell_type": "code",
   "execution_count": 2,
   "id": "bd377413-c868-4726-ad83-d569f1e53902",
   "metadata": {},
   "outputs": [
    {
     "name": "stderr",
     "output_type": "stream",
     "text": [
      "/opt/conda/lib/python3.8/site-packages/kfp/client/client.py:159: FutureWarning: This client only works with Kubeflow Pipeline v2.0.0-beta.2 and later versions.\n",
      "  warnings.warn(\n"
     ]
    }
   ],
   "source": [
    "kaggle_secret = \"kaggle-secret\"\n",
    "root = Path(\"/\")\n",
    "sa = root/Path(\"var/run/secrets/kubernetes.io/serviceaccount\")\n",
    "ns = open(sa/\"namespace\", \"r\").read()\n",
    "client = client.Client()"
   ]
  },
  {
   "cell_type": "code",
   "execution_count": 3,
   "id": "7ccddf83-b628-4c50-958c-2827b1d29680",
   "metadata": {},
   "outputs": [
    {
     "name": "stderr",
     "output_type": "stream",
     "text": [
      "/opt/conda/lib/python3.8/site-packages/kfp/dsl/component_decorator.py:119: FutureWarning: The default base_image used by the @dsl.component decorator will switch from 'python:3.8' to 'python:3.9' on Oct 1, 2024. To ensure your existing components work with versions of the KFP SDK released after that date, you should provide an explicit base_image argument and ensure your component works as intended on Python 3.9.\n",
      "  return component_factory.create_component_from_func(\n"
     ]
    }
   ],
   "source": [
    "@dsl.component(packages_to_install=['kaggle==1.6.14'])\n",
    "def download_data() -> None:\n",
    "    import os\n",
    "    import json\n",
    "    import zipfile\n",
    "    import subprocess\n",
    "    \n",
    "    def init_kaggle():\n",
    "        # create the Kaggle config directory\n",
    "        kaggle_config_dir = os.path.join(\n",
    "            os.path.expandvars('$HOME'), '.kaggle')\n",
    "        os.makedirs(kaggle_config_dir, exist_ok = True)\n",
    "\n",
    "        # write the Kaggle config\n",
    "        api_dict = {\n",
    "            \"username\": os.environ['KAGGLE_USERNAME'],\n",
    "            \"key\":os.environ['KAGGLE_KEY']}\n",
    "\n",
    "        with open(os.path.join(kaggle_config_dir, \"kaggle.json\"), \"w\", encoding='utf-8') as f:\n",
    "            json.dump(api_dict, f)\n",
    "\n",
    "        cmd = f\"chmod 600 {kaggle_config_dir}/kaggle.json\"\n",
    "        output = subprocess.check_output(cmd.split(\" \"))\n",
    "        \n",
    "        return output\n",
    "        \n",
    "    result = init_kaggle()\n",
    "    print(result)\n",
    "    \n",
    "    import kaggle\n",
    "    \n",
    "    isic_data_path = \"/data\"\n",
    "    kaggle.api.competition_download_files(\"isic-2024-challenge\", path=isic_data_path)\n",
    "    \n",
    "    with zipfile.ZipFile(os.path.join(isic_data_path, \"isic-2024-challenge.zip\"), 'r') as zip_ref:\n",
    "        zip_ref.extractall(isic_data_path)\n",
    "        \n",
    "    os.listdir(isic_data_path)"
   ]
  },
  {
   "cell_type": "code",
   "execution_count": null,
   "id": "b7f9c4bc-b575-4dd9-b6a5-63c5b87776e6",
   "metadata": {},
   "outputs": [],
   "source": [
    "@dsl.component(packages_to_install=['kaggle==1.6.14'])"
   ]
  },
  {
   "cell_type": "code",
   "execution_count": 4,
   "id": "1bb45234-ad9d-451c-b053-156108074210",
   "metadata": {},
   "outputs": [],
   "source": [
    "@dsl.pipeline\n",
    "def isic_pipeline() -> None:\n",
    "    # create a PVC to store the dataset\n",
    "    isic_data_pvc = kubernetes.CreatePVC(\n",
    "        pvc_name='isic-data',\n",
    "        access_modes=['ReadWriteMany'],\n",
    "        size='8.0Gi',\n",
    "        storage_class_name='longhorn'\n",
    "    )\n",
    "\n",
    "    download_data_step = download_data()\n",
    "\n",
    "    kubernetes.mount_pvc(\n",
    "        download_data_step,\n",
    "        pvc_name=isic_data_pvc.outputs['name'],\n",
    "        mount_path='/data')\n",
    "    kubernetes.use_secret_as_env(\n",
    "        download_data_step,\n",
    "        secret_name=kaggle_secret,\n",
    "        secret_key_to_env={'username': 'KAGGLE_USERNAME'})\n",
    "    kubernetes.use_secret_as_env(\n",
    "        download_data_step,\n",
    "        secret_name=kaggle_secret,\n",
    "        secret_key_to_env={'key': 'KAGGLE_KEY'})"
   ]
  },
  {
   "cell_type": "code",
   "execution_count": 5,
   "id": "78dda429-0b68-4f8a-83f3-c8e13dc8c302",
   "metadata": {},
   "outputs": [],
   "source": [
    "compiler.Compiler().compile(isic_pipeline, package_path='pipeline.yaml')"
   ]
  },
  {
   "cell_type": "code",
   "execution_count": 6,
   "id": "83f5bf5d-ae59-4ca0-b047-07f0be725a19",
   "metadata": {},
   "outputs": [
    {
     "data": {
      "text/html": [
       "<a href=\"/pipeline/#/experiments/details/ed21a435-3f2a-40e8-8ac5-cc3e2171ec40\" target=\"_blank\" >Experiment details</a>."
      ],
      "text/plain": [
       "<IPython.core.display.HTML object>"
      ]
     },
     "metadata": {},
     "output_type": "display_data"
    }
   ],
   "source": [
    "experiment = client.create_experiment(\n",
    "    name=\"isic-experiment\",\n",
    "    description=\"Skin Cancer Detection with 3D-TBP\",\n",
    "    namespace=ns)"
   ]
  },
  {
   "cell_type": "code",
   "execution_count": 7,
   "id": "f4d09b94-fb06-438c-acd3-50f1a04004f5",
   "metadata": {},
   "outputs": [
    {
     "data": {
      "text/html": [
       "<a href=\"/pipeline/#/experiments/details/ed21a435-3f2a-40e8-8ac5-cc3e2171ec40\" target=\"_blank\" >Experiment details</a>."
      ],
      "text/plain": [
       "<IPython.core.display.HTML object>"
      ]
     },
     "metadata": {},
     "output_type": "display_data"
    },
    {
     "data": {
      "text/html": [
       "<a href=\"/pipeline/#/runs/details/aa77a55b-76ca-405d-b1fc-7b1f16c51dcc\" target=\"_blank\" >Run details</a>."
      ],
      "text/plain": [
       "<IPython.core.display.HTML object>"
      ]
     },
     "metadata": {},
     "output_type": "display_data"
    }
   ],
   "source": [
    "pipeline = client.create_run_from_pipeline_package(\n",
    "    pipeline_file=\"pipeline.yaml\",\n",
    "    experiment_name=experiment.display_name,\n",
    "    namespace=ns,\n",
    "    run_name=\"isic-run\"\n",
    ")   "
   ]
  },
  {
   "cell_type": "code",
   "execution_count": null,
   "id": "9e08f2d2-0ed6-4434-965d-43985b664a47",
   "metadata": {},
   "outputs": [],
   "source": []
  }
 ],
 "metadata": {
  "kernelspec": {
   "display_name": "Python 3 (ipykernel)",
   "language": "python",
   "name": "python3"
  },
  "language_info": {
   "codemirror_mode": {
    "name": "ipython",
    "version": 3
   },
   "file_extension": ".py",
   "mimetype": "text/x-python",
   "name": "python",
   "nbconvert_exporter": "python",
   "pygments_lexer": "ipython3",
   "version": "3.8.10"
  }
 },
 "nbformat": 4,
 "nbformat_minor": 5
}
